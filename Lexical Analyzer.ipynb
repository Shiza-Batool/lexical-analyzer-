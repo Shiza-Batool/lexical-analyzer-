{
 "cells": [
  {
   "cell_type": "code",
   "execution_count": 1,
   "metadata": {},
   "outputs": [
    {
     "name": "stdout",
     "output_type": "stream",
     "text": [
      "[('IDENTIFIER', 'a'), ('SYMBOL', '+'), ('SYMBOL', '('), ('IDENTIFIER', 'b'), ('SYMBOL', '*'), ('IDENTIFIER', 'c'), ('SYMBOL', ')')]\n"
     ]
    }
   ],
   "source": [
    "import re\n",
    "\n",
    "def lexical_analyzer(expression):\n",
    "    \n",
    "    tokens = []\n",
    "    current_token = ''\n",
    "    for c in expression:\n",
    "        if c.isspace():\n",
    "            \n",
    "            if current_token:\n",
    "                tokens.append(current_token)\n",
    "                current_token = ''\n",
    "        elif c in ['+', '-', '*', '/', '(', ')', '=']:\n",
    "          \n",
    "            if current_token:\n",
    "                tokens.append(current_token)\n",
    "                current_token = ''\n",
    "            tokens.append(c)\n",
    "        else:\n",
    "          \n",
    "            current_token += c\n",
    "   \n",
    "    if current_token:\n",
    "        tokens.append(current_token)\n",
    "    \n",
    "   \n",
    "    number_pattern = r'\\d+'\n",
    "    identifier_pattern = r'[a-zA-Z_]+'\n",
    "    \n",
    "    tags = []\n",
    "    for token in tokens:\n",
    "        if re.match(number_pattern, token):\n",
    "            tags.append(('NUMBER', token))\n",
    "        elif re.match(identifier_pattern, token):\n",
    "            tags.append(('IDENTIFIER', token))\n",
    "        else:\n",
    "            tags.append(('SYMBOL', token))\n",
    "    return tags\n",
    "\n",
    "\n",
    "expression = 'a + (b * c)'\n",
    "print(lexical_analyzer(expression)) \n"
   ]
  }
 ],
 "metadata": {
  "kernelspec": {
   "display_name": "Python 3",
   "language": "python",
   "name": "python3"
  },
  "language_info": {
   "codemirror_mode": {
    "name": "ipython",
    "version": 3
   },
   "file_extension": ".py",
   "mimetype": "text/x-python",
   "name": "python",
   "nbconvert_exporter": "python",
   "pygments_lexer": "ipython3",
   "version": "3.11.0"
  },
  "orig_nbformat": 4,
  "vscode": {
   "interpreter": {
    "hash": "379fe8e10ded02fa94a29b4b37a41c7d80f19320dc2f2cadbccf353975fbaaa0"
   }
  }
 },
 "nbformat": 4,
 "nbformat_minor": 2
}
