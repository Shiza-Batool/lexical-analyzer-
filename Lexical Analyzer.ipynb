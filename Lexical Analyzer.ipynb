{
 "cells": [
  {
   "cell_type": "code",
   "execution_count": null,
   "metadata": {},
   "outputs": [],
   "source": [
    "import re\n",
    "\n",
    "def lexical_analyzer(expression):\n",
    "    # Tokenize the expression\n",
    "    tokens = []\n",
    "    current_token = ''\n",
    "    for c in expression:\n",
    "        if c.isspace():\n",
    "            # If the character is a space, add the current token to the list and reset it\n",
    "            if current_token:\n",
    "                tokens.append(current_token)\n",
    "                current_token = ''\n",
    "        elif c in ['+', '-', '*', '/', '(', ')', '=']:\n",
    "            # If the character is a special character, add the current token to the list and reset it\n",
    "            if current_token:\n",
    "                tokens.append(current_token)\n",
    "                current_token = ''\n",
    "            tokens.append(c)\n",
    "        else:\n",
    "            # If the character is a digit or alphabet, add it to the current token\n",
    "            current_token += c\n",
    "    # Add the final token to the list\n",
    "    if current_token:\n",
    "        tokens.append(current_token)\n",
    "    \n",
    "    # Build the regex patterns\n",
    "    number_pattern = r'\\d+'\n",
    "    identifier_pattern = r'[a-zA-Z_]+'\n",
    "    \n",
    "    # Output the tags/tokens of the expression\n",
    "    tags = []\n",
    "    for token in tokens:\n",
    "        if re.match(number_pattern, token):\n",
    "            tags.append(('NUMBER', token))\n",
    "        elif re.match(identifier_pattern, token):\n",
    "            tags.append(('IDENTIFIER', token))\n",
    "        else:\n",
    "            tags.append(('SYMBOL', token))\n",
    "    return tags\n",
    "\n",
    "# Test the lexical analyzer\n",
    "expression = 'a + (b * c)'\n",
    "print(lexical_analyzer(expression))  # Output: [('IDENTIFIER', 'a'), ('SYMBOL', '+'), ('SYMBOL', '('), ('IDENTIFIER', 'b'), ('SYMBOL', '*'), ('IDENTIFIER', 'c'), ('SYMBOL', ')')]\n"
   ]
  }
 ],
 "metadata": {
  "kernelspec": {
   "display_name": "Python 3",
   "language": "python",
   "name": "python3"
  },
  "language_info": {
   "name": "python",
   "version": "3.11.0 (main, Oct 24 2022, 18:26:48) [MSC v.1933 64 bit (AMD64)]"
  },
  "orig_nbformat": 4,
  "vscode": {
   "interpreter": {
    "hash": "379fe8e10ded02fa94a29b4b37a41c7d80f19320dc2f2cadbccf353975fbaaa0"
   }
  }
 },
 "nbformat": 4,
 "nbformat_minor": 2
}
